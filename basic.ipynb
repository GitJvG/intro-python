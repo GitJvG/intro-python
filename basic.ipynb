{
 "cells": [
  {
   "cell_type": "markdown",
   "metadata": {},
   "source": [
    "## Simple growth rate\n",
    "\n",
    "This demonstrates the simple growth rate calculation. We apply the distributive property of multiplication: $c a + c b = c (a + b)$"
   ]
  },
  {
   "cell_type": "code",
   "execution_count": 2,
   "metadata": {},
   "outputs": [
    {
     "data": {
      "text/plain": [
       "107.0"
      ]
     },
     "execution_count": 2,
     "metadata": {},
     "output_type": "execute_result"
    }
   ],
   "source": [
    "100*(1+0.07)"
   ]
  },
  {
   "cell_type": "markdown",
   "metadata": {},
   "source": [
    "## Compounded growth rate\n",
    "\n",
    "The compounded growth rate is calculated using the formula $i(1 + r)^t$. This shows how an investment grows over t periods. According to the PEMDAS rule, exponents are evaluated before multiplication."
   ]
  },
  {
   "cell_type": "code",
   "execution_count": 3,
   "metadata": {},
   "outputs": [
    {
     "data": {
      "text/plain": [
       "114.49000000000001"
      ]
     },
     "execution_count": 3,
     "metadata": {},
     "output_type": "execute_result"
    }
   ],
   "source": [
    "100*(1+0.07)**2 # PEMDAS: Exponents before multiplication"
   ]
  },
  {
   "cell_type": "markdown",
   "metadata": {},
   "source": [
    "## Variables\n",
    "\n",
    "Here, we define variables for an investment scenario:\n",
    "- `i` is the initial investment.\n",
    "- `r` is the annual rate of return.\n",
    "- `t` is the time to maturity in years.\n",
    "\n",
    "We then calculate the future value of the investment using the formula $v = i (1 + r)^t$."
   ]
  },
  {
   "cell_type": "code",
   "execution_count": 4,
   "metadata": {},
   "outputs": [
    {
     "name": "stdout",
     "output_type": "stream",
     "text": [
      "The investment of 100 will grow anually by 7.000000000000001% to a value of 140.25517307000004 in 5 years.\n"
     ]
    }
   ],
   "source": [
    "i = 100 # Investment\n",
    "r = 0.07 # Annual rate of return\n",
    "t = 5 # Time to maturity in years\n",
    "\n",
    "v = i*(1+r)**t\n",
    "print(f\"The investment of {i} will grow anually by {r*100}% to a value of {v} in {t} years.\")\n"
   ]
  },
  {
   "cell_type": "markdown",
   "metadata": {},
   "source": [
    "## Loops\n",
    "\n",
    "This loop calculates the value of the investment at the end of each year. It shows how the investment grows each year."
   ]
  },
  {
   "cell_type": "code",
   "execution_count": 5,
   "metadata": {},
   "outputs": [
    {
     "name": "stdout",
     "output_type": "stream",
     "text": [
      "The value at t=0 is 100.0\n",
      "The value at t=1 is 107.0\n",
      "The value at t=2 is 114.49000000000001\n",
      "The value at t=3 is 122.50430000000001\n",
      "The value at t=4 is 131.07960100000003\n"
     ]
    }
   ],
   "source": [
    "for n in range(t):\n",
    "    v = i*(1+r)**n\n",
    "    print(f\"The value at t={n} is {v}\")\n",
    "\n",
    "# Check the answer! What do you notice?\n"
   ]
  },
  {
   "cell_type": "markdown",
   "metadata": {},
   "source": [
    "## Lists\n",
    "\n",
    "Using a list to store the values of the investment over time, this code collects all yearly values in the list `values` and prints them."
   ]
  },
  {
   "cell_type": "code",
   "execution_count": 6,
   "metadata": {},
   "outputs": [
    {
     "name": "stdout",
     "output_type": "stream",
     "text": [
      "[100.0, 107.0, 114.49000000000001, 122.50430000000001, 131.07960100000003]\n"
     ]
    }
   ],
   "source": [
    "values = []\n",
    "for n in range(t):\n",
    "    v = i*(1+r)**n\n",
    "    values.append(v)\n",
    "print(values)"
   ]
  },
  {
   "cell_type": "markdown",
   "metadata": {},
   "source": [
    "## Questions\n",
    "\n",
    "1.  How long will it take to double your investment when r = 6%?\n",
    "2. I want to have 1000 EUR after 10 years. How much do I need to invest now if the rate of return is 8%?\n",
    "3. You want receive an annual pay-out of 100 EUR during the coming 10 years. How much do I need to invest now if the rate of return is 8%?"
   ]
  },
  {
   "cell_type": "markdown",
   "metadata": {},
   "source": [
    "### Answer Q1\n",
    "\n",
    "To determine how long it will take to double the investment at a 6% annual rate of return, we can calculate the future value for different time periods until the value is at least double the initial investment."
   ]
  },
  {
   "cell_type": "code",
   "execution_count": 4,
   "metadata": {},
   "outputs": [
    {
     "name": "stdout",
     "output_type": "stream",
     "text": [
      "The value at t=10 is None\n",
      "The value at t=11 is None\n",
      "The value at t=12 is None\n",
      "The value at t=13 is None\n"
     ]
    }
   ],
   "source": [
    "# Answer Q1\n",
    "\n",
    "i = 100 # Investment\n",
    "r = 0.06 # Annual rate of return\n",
    "t = 14 # Time to maturity in years\n",
    "\n",
    "# Loop through each year and calculate the compounded value\n",
    "for n in range(10,t):\n",
    "    v = None # Change this line\n",
    "    print(f\"The value at t={n} is {v}\")\n",
    "\n",
    "# For an estimate check out the 72-rule: https://youtu.be/y-Igv2H4LxQ?si=ZINrIxaWbJe5tGhj"
   ]
  },
  {
   "cell_type": "markdown",
   "metadata": {},
   "source": [
    "### Answer Q2\n",
    "\n",
    "To find out how much to invest now to have 1000 EUR after 10 years at an 8% rate of return, we rearrange the formula for calculating $v$ to solve for the initial investment $i$. We call $i$ the **present value** of $v$."
   ]
  },
  {
   "cell_type": "code",
   "execution_count": null,
   "metadata": {},
   "outputs": [],
   "source": [
    "# Answer Q2\n",
    "\n",
    "v = 1000 # Future value\n",
    "r = 0.08 # Annual rate of return\n",
    "t = 10 # Time to maturity in years\n",
    "\n",
    "i = None # Change this line\n",
    "\n",
    "print(f\"The investment of {i} will grow anually by {r*100}% to a value of {v} in {t} years.\")\n",
    "\n",
    "# Check the result\n",
    "v = i*(1+r)**t\n",
    "print(f\"Check: {v}\")"
   ]
  },
  {
   "cell_type": "markdown",
   "metadata": {},
   "source": [
    "### Answer Q3\n",
    "\n",
    "To find out how much to invest now to receive an annual payout of 100 EUR for the next 10 years at an 8% rate of return, we sum the present values of each annual payout."
   ]
  },
  {
   "cell_type": "code",
   "execution_count": 3,
   "metadata": {},
   "outputs": [
    {
     "name": "stdout",
     "output_type": "stream",
     "text": [
      "I need a starting capital of 0 to pay-out 100 annualy.\n",
      "The value at the start of year 1 is 0\n",
      "The value at the end is of year 1 is 0.0 before pay-out.\n",
      "The value at the start of year 2 is -100.0\n",
      "The value at the end is of year 2 is -108.0 before pay-out.\n",
      "The value at the start of year 3 is -208.0\n",
      "The value at the end is of year 3 is -224.64000000000001 before pay-out.\n",
      "The value at the start of year 4 is -324.64\n",
      "The value at the end is of year 4 is -350.6112 before pay-out.\n",
      "The value at the start of year 5 is -450.6112\n",
      "The value at the end is of year 5 is -486.660096 before pay-out.\n",
      "The value at the start of year 6 is -586.6600960000001\n",
      "The value at the end is of year 6 is -633.5929036800001 before pay-out.\n",
      "The value at the start of year 7 is -733.5929036800001\n",
      "The value at the end is of year 7 is -792.2803359744001 before pay-out.\n",
      "The value at the start of year 8 is -892.2803359744001\n",
      "The value at the end is of year 8 is -963.6627628523522 before pay-out.\n",
      "The value at the start of year 9 is -1063.6627628523522\n",
      "The value at the end is of year 9 is -1148.7557838805405 before pay-out.\n",
      "The value at the start of year 10 is -1248.7557838805405\n",
      "The value at the end is of year 10 is -1348.656246590984 before pay-out.\n"
     ]
    }
   ],
   "source": [
    "# Answer Q3\n",
    "\n",
    "v = 100 # Annual pay-out\n",
    "r = 0.08 # Annual rate of return\n",
    "t = 10 # Time to maturity in years\n",
    "s = 0\n",
    "\n",
    "for n in range(1, t+1):\n",
    "    s += 0 # Change this line\n",
    "print(f\"I need a starting capital of {s} to pay-out {v} annualy.\")\n",
    "\n",
    "# Check your answer\n",
    "for n in range(1, t+1):\n",
    "    print(f\"The value at the start of year {n} is {s}\")\n",
    "    s = s * (1+r)\n",
    "    print(f\"The value at the end is of year {n} is {s} before pay-out.\")\n",
    "    s = s - v\n"
   ]
  }
 ],
 "metadata": {
  "kernelspec": {
   "display_name": ".venv",
   "language": "python",
   "name": "python3"
  },
  "language_info": {
   "codemirror_mode": {
    "name": "ipython",
    "version": 3
   },
   "file_extension": ".py",
   "mimetype": "text/x-python",
   "name": "python",
   "nbconvert_exporter": "python",
   "pygments_lexer": "ipython3",
   "version": "3.10.13"
  }
 },
 "nbformat": 4,
 "nbformat_minor": 2
}
